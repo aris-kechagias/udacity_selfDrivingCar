{
 "cells": [
  {
   "cell_type": "markdown",
   "metadata": {},
   "source": [
    "# Self-Driving Car Engineer Nanodegree\n",
    "\n",
    "## Deep Learning\n",
    "\n",
    "## Project: Build a Traffic Sign Recognition Classifier\n",
    "\n",
    "In this notebook, a template is provided for you to implement your functionality in stages, which is required to successfully complete this project. If additional code is required that cannot be included in the notebook, be sure that the Python code is successfully imported and included in your submission if necessary. \n",
    "\n",
    "> **Note**: Once you have completed all of the code implementations, you need to finalize your work by exporting the iPython Notebook as an HTML document. Before exporting the notebook to html, all of the code cells need to have been run so that reviewers can see the final implementation and output. You can then export the notebook by using the menu above and navigating to  \\n\",\n",
    "    \"**File -> Download as -> HTML (.html)**. Include the finished document along with this notebook as your submission. \n",
    "\n",
    "In addition to implementing code, there is a writeup to complete. The writeup should be completed in a separate file, which can be either a markdown file or a pdf document. There is a [write up template](https://github.com/udacity/CarND-Traffic-Sign-Classifier-Project/blob/master/writeup_template.md) that can be used to guide the writing process. Completing the code template and writeup template will cover all of the [rubric points](https://review.udacity.com/#!/rubrics/481/view) for this project.\n",
    "\n",
    "The [rubric](https://review.udacity.com/#!/rubrics/481/view) contains \"Stand Out Suggestions\" for enhancing the project beyond the minimum requirements. The stand out suggestions are optional. If you decide to pursue the \"stand out suggestions\", you can include the code in this Ipython notebook and also discuss the results in the writeup file.\n",
    "\n",
    "\n",
    ">**Note:** Code and Markdown cells can be executed using the **Shift + Enter** keyboard shortcut. In addition, Markdown cells can be edited by typically double-clicking the cell to enter edit mode."
   ]
  },
  {
   "cell_type": "markdown",
   "metadata": {},
   "source": [
    "---\n",
    "## Step 0: Load The Data"
   ]
  },
  {
   "cell_type": "code",
   "execution_count": 1,
   "metadata": {},
   "outputs": [],
   "source": [
    "# imports\n",
    "import pickle\n",
    "import numpy as np\n",
    "import matplotlib.pyplot as plt\n",
    "import csv\n",
    "import cv2\n",
    "import os\n",
    "\n",
    "import tensorflow._api.v2.compat.v1 as tf\n",
    "from tensorflow.keras.layers import Flatten\n",
    "\n",
    "from sklearn.utils import shuffle\n"
   ]
  },
  {
   "cell_type": "code",
   "execution_count": 2,
   "metadata": {},
   "outputs": [],
   "source": [
    "\"\"\"\n",
    "Load Data\n",
    "\"\"\"\n",
    "\n",
    "\n",
    "def load_data():\n",
    "    with open('traffic-signs-data\\\\train.p', mode='rb') as f:\n",
    "        train = pickle.load(f)\n",
    "    with open('traffic-signs-data\\\\valid.p', mode='rb') as f:\n",
    "        valid = pickle.load(f)\n",
    "    with open('traffic-signs-data\\\\test.p', mode='rb') as f:\n",
    "        test = pickle.load(f)\n",
    "\n",
    "    x_tr, y_tr = train['features'], train['labels']\n",
    "    x_val, y_val = valid['features'], valid['labels']\n",
    "\n",
    "    x_test, y_test = test['features'], test['labels']\n",
    "\n",
    "    return x_tr, y_tr, x_val, y_val, x_test, y_test\n",
    "\n",
    "\n",
    "def extend_dataset(x_tr, y_tr, x_val, y_val):\n",
    "    x_train_gen = list()\n",
    "    y_train_gen = list()\n",
    "    x_valid_gen = list()\n",
    "    y_valid_gen = list()\n",
    "\n",
    "    small_classes = [0, 6, *range(14, 17), *range(19, 25), *range(26, 35), 36, 37, *range(39, 43)]\n",
    "    train_gen_data_file = 'traffic-signs-data\\\\train_gen.p'\n",
    "    if not os.path.isfile(train_gen_data_file):\n",
    "        for i in y_tr:\n",
    "            if i in small_classes:\n",
    "                x_train_gen.append(cv2.rotate(x_tr[i, :, :, :], cv2.ROTATE_90_CLOCKWISE))\n",
    "                y_train_gen.append(i)\n",
    "                x_train_gen.append(cv2.rotate(x_tr[i, :, :, :], cv2.ROTATE_90_COUNTERCLOCKWISE))\n",
    "                y_train_gen.append(i)\n",
    "                x_train_gen.append(cv2.rotate(x_tr[i, :, :, :], cv2.ROTATE_180))\n",
    "                y_train_gen.append(i)\n",
    "\n",
    "        x_train_gen, y_train_gen = shuffle(np.array(x_train_gen), np.array(y_train_gen))\n",
    "        train_gen = {\n",
    "            'features': x_train_gen,\n",
    "            'labels': y_train_gen\n",
    "        }\n",
    "        with open(train_gen_data_file, 'wb') as f:\n",
    "            pickle.dump(train_gen, f)\n",
    "    else:\n",
    "        with open(train_gen_data_file, 'rb') as f:\n",
    "            train_gen = pickle.load(f)\n",
    "            x_train_gen = train_gen['features']\n",
    "            y_train_gen = train_gen['labels']\n",
    "\n",
    "    validation_gen_data_file = 'traffic-signs-data\\\\valid_gen.p'\n",
    "    if not os.path.isfile(validation_gen_data_file):\n",
    "        for i in y_val:\n",
    "            x_valid_gen.append(cv2.rotate(x_val[i, :, :, :], cv2.ROTATE_180))\n",
    "            y_valid_gen.append(i)\n",
    "            if i in small_classes:\n",
    "                x_valid_gen.append(cv2.rotate(x_val[i, :, :, :], cv2.ROTATE_90_CLOCKWISE))\n",
    "                y_valid_gen.append(i)\n",
    "                x_valid_gen.append(cv2.rotate(x_val[i, :, :, :], cv2.ROTATE_90_COUNTERCLOCKWISE))\n",
    "                y_valid_gen.append(i)\n",
    "\n",
    "        x_valid_gen, y_valid_gen = shuffle(np.array(x_valid_gen), np.array(y_valid_gen))\n",
    "        valid_gen = {\n",
    "            'features': np.array(x_valid_gen),\n",
    "            'labels': np.array(y_valid_gen)\n",
    "        }\n",
    "        with open(validation_gen_data_file, 'wb') as f:\n",
    "            pickle.dump(valid_gen, f)\n",
    "    else:\n",
    "        with open(validation_gen_data_file, 'rb') as f:\n",
    "            valid_gen = pickle.load(f)\n",
    "            x_valid_gen = valid_gen['features']\n",
    "            y_valid_gen = valid_gen['labels']\n",
    "\n",
    "    x_train_ext = np.vstack((x_tr, x_train_gen))\n",
    "    y_train_ext = np.concatenate((y_tr, y_train_gen))\n",
    "    x_train_ext, y_train_ext = shuffle(x_train_ext, y_train_ext)\n",
    "\n",
    "    x_valid_ext = np.vstack((x_val, x_valid_gen))\n",
    "    y_valid_ext = np.concatenate((y_val, y_valid_gen))\n",
    "    x_valid_ext, y_valid_ext = shuffle(x_valid_ext, y_valid_ext)\n",
    "\n",
    "    return x_train_ext, y_train_ext, x_valid_ext, y_valid_ext\n",
    "\n",
    "\n",
    "x_train, y_train, x_valid, y_valid, test_data, test_labels = load_data()\n",
    "x_train_extended, y_train_extended, x_valid_extended, y_valid_extended = \\\n",
    "    extend_dataset(x_train, y_train, x_valid, y_valid)\n"
   ]
  },
  {
   "cell_type": "markdown",
   "metadata": {},
   "source": [
    "---\n",
    "\n",
    "## Step 1: Dataset Summary & Exploration\n",
    "\n",
    "The pickled data is a dictionary with 4 key/value pairs:\n",
    "\n",
    "- `'features'` is a 4D array containing raw pixel data of the traffic sign images, (num examples, width, height, channels).\n",
    "- `'labels'` is a 1D array containing the label/class id of the traffic sign. The file `signnames.csv` contains id -> name mappings for each id.\n",
    "- `'sizes'` is a list containing tuples, (width, height) representing the original width and height the image.\n",
    "- `'coords'` is a list containing tuples, (x1, y1, x2, y2) representing coordinates of a bounding box around the sign in the image. **THESE COORDINATES ASSUME THE ORIGINAL IMAGE. THE PICKLED DATA CONTAINS RESIZED VERSIONS (32 by 32) OF THESE IMAGES**\n",
    "\n",
    "Complete the basic data summary below. Use python, numpy and/or pandas methods to calculate the data summary rather than hard coding the results. For example, the [pandas shape method](http://pandas.pydata.org/pandas-docs/stable/generated/pandas.DataFrame.shape.html) might be useful for calculating some of the summary results. "
   ]
  },
  {
   "cell_type": "markdown",
   "metadata": {},
   "source": [
    "### Provide a Basic Summary of the Data Set Using Python, Numpy and/or Pandas"
   ]
  },
  {
   "cell_type": "code",
   "execution_count": 3,
   "metadata": {},
   "outputs": [
    {
     "name": "stdout",
     "output_type": "stream",
     "text": [
      "\n",
      "Initial Dataset:\n",
      "Number of training examples = 34799\n",
      "Number of validation examples = 4410\n",
      "Number of testing examples = 12630\n",
      "Image data shape = (32, 32, 3)\n",
      "Number of classes = 43\n",
      "\n",
      "Extended Dataset:\n",
      "Number of training examples = 62156\n",
      "Number of validation examples = 11580\n",
      "Number of testing examples = 12630\n",
      "Image data shape = (32, 32, 3)\n",
      "Number of classes = 43\n"
     ]
    },
    {
     "data": {
      "text/plain": [
       "array([ 0,  1,  2,  3,  4,  5,  6,  7,  8,  9, 10, 11, 12, 13, 14, 15, 16,\n",
       "       17, 18, 19, 20, 21, 22, 23, 24, 25, 26, 27, 28, 29, 30, 31, 32, 33,\n",
       "       34, 35, 36, 37, 38, 39, 40, 41, 42], dtype=uint8)"
      ]
     },
     "execution_count": 3,
     "metadata": {},
     "output_type": "execute_result"
    }
   ],
   "source": [
    "def print_stats(x_tr, y_tr, x_va, y_va, x_te, y_te):\n",
    "    # Number of training examples\n",
    "    assert len(y_tr) == x_tr.shape[0]\n",
    "    n_train = len(y_tr)\n",
    "\n",
    "    # Number of validation examples\n",
    "    assert len(y_va) == x_va.shape[0]\n",
    "    n_validation = len(y_va)\n",
    "\n",
    "    # Number of testing examples.\n",
    "    assert len(y_te) == x_te.shape[0]\n",
    "    n_test = len(y_te)\n",
    "\n",
    "    # What's the shape of an traffic sign image?\n",
    "    image_shape = x_tr[0].shape\n",
    "\n",
    "    # How many unique classes/labels there are in the dataset.\n",
    "    class_set = np.unique([*y_tr, *y_va, *y_te])\n",
    "\n",
    "    print(\"Number of training examples =\", n_train)\n",
    "    print(\"Number of validation examples =\", n_validation)\n",
    "    print(\"Number of testing examples =\", n_test)\n",
    "    print(\"Image data shape =\", image_shape)\n",
    "    print(\"Number of classes =\", len(class_set))\n",
    "\n",
    "    return class_set\n",
    "\n",
    "\n",
    "print('\\nInitial Dataset:')\n",
    "classes_set = print_stats(x_train, y_train, x_valid, y_valid, test_data, test_labels)\n",
    "out_size = len(classes_set)\n",
    "\n",
    "print('\\nExtended Dataset:')\n",
    "print_stats(x_train_extended, y_train_extended, x_valid_extended, y_valid_extended, test_data, test_labels)\n"
   ]
  },
  {
   "cell_type": "markdown",
   "metadata": {},
   "source": [
    "### Include an exploratory visualization of the dataset"
   ]
  },
  {
   "cell_type": "markdown",
   "metadata": {},
   "source": [
    "Visualize the German Traffic Signs Dataset using the pickled file(s). This is open ended, suggestions include: plotting traffic sign images, plotting the count of each sign, etc. \n",
    "\n",
    "The [Matplotlib](http://matplotlib.org/) [examples](http://matplotlib.org/examples/index.html) and [gallery](http://matplotlib.org/gallery.html) pages are a great resource for doing visualizations in Python.\n",
    "\n",
    "**NOTE:** It's recommended you start with something simple first. If you wish to do more, come back to it after you've completed the rest of the sections. It can be interesting to look at the distribution of classes in the training, validation and test set. Is the distribution the same? Are there more examples of some classes than others?"
   ]
  },
  {
   "cell_type": "code",
   "execution_count": 4,
   "metadata": {},
   "outputs": [
    {
     "data": {
      "image/png": "[encoded data removed]",
      "text/plain": [
       "<Figure size 432x288 with 1 Axes>"
      ]
     },
     "metadata": {
      "needs_background": "light"
     },
     "output_type": "display_data"
    },
    {
     "data": {
      "image/png": "[encoded data removed]",
      "text/plain": [
       "<Figure size 432x288 with 1 Axes>"
      ]
     },
     "metadata": {
      "needs_background": "light"
     },
     "output_type": "display_data"
    }
   ],
   "source": [
    "\"\"\"\n",
    "Visualize Data\n",
    "\"\"\"\n",
    "\n",
    "\n",
    "def visualize_dataset(tr_labels, te_labels, va_labels, classes):\n",
    "    # Visualizations will be shown in the notebook.\n",
    "    output_size = len(classes)\n",
    "    with open('signnames.csv') as names_file:\n",
    "        data = dict(enumerate(csv.DictReader(names_file)))\n",
    "        names_list = [data[i]['SignName'] for i in classes]\n",
    "\n",
    "    plt.style.use('seaborn-deep')\n",
    "    plt.hist([tr_labels, va_labels, te_labels], bins=range(output_size + 1), density=True, rwidth=0.8,\n",
    "             align='left', label=['train', 'validation', 'test'])\n",
    "    plt.legend(loc='upper right')\n",
    "    axes = plt.gca()\n",
    "    plt.xticks(range(output_size), names_list, fontsize=6, rotation=45, ha='right')\n",
    "    plt.yticks(ticks=axes.get_yticks(), labels=np.round(axes.get_yticks()*100))\n",
    "    plt.ylabel('%', rotation=0)\n",
    "    plt.tight_layout()\n",
    "    plt.show()\n",
    "\n",
    "\n",
    "visualize_dataset(y_train, test_labels, y_valid, classes_set)\n",
    "visualize_dataset(y_train_extended, test_labels, y_valid_extended, classes_set)\n"
   ]
  },
  {
   "cell_type": "markdown",
   "metadata": {},
   "source": [
    "----\n",
    "\n",
    "## Step 2: Design and Test a Model Architecture\n",
    "\n",
    "Design and implement a deep learning model that learns to recognize traffic signs. Train and test your model on the [German Traffic Sign Dataset](http://benchmark.ini.rub.de/?section=gtsrb&subsection=dataset).\n",
    "\n",
    "The LeNet-5 implementation shown in the [classroom](https://classroom.udacity.com/nanodegrees/nd013/parts/fbf77062-5703-404e-b60c-95b78b2f3f9e/modules/6df7ae49-c61c-4bb2-a23e-6527e69209ec/lessons/601ae704-1035-4287-8b11-e2c2716217ad/concepts/d4aca031-508f-4e0b-b493-e7b706120f81) at the end of the CNN lesson is a solid starting point. You'll have to change the number of classes and possibly the preprocessing, but aside from that it's plug and play! \n",
    "\n",
    "With the LeNet-5 solution from the lecture, you should expect a validation set accuracy of about 0.89. To meet specifications, the validation set accuracy will need to be at least 0.93. It is possible to get an even higher accuracy, but 0.93 is the minimum for a successful project submission. \n",
    "\n",
    "There are various aspects to consider when thinking about this problem:\n",
    "\n",
    "- Neural network architecture (is the network over or underfitting?)\n",
    "- Play around preprocessing techniques (normalization, rgb to grayscale, etc)\n",
    "- Number of examples per label (some have more than others).\n",
    "- Generate fake data.\n",
    "\n",
    "Here is an example of a [published baseline model on this problem](http://yann.lecun.com/exdb/publis/pdf/sermanet-ijcnn-11.pdf). It's not required to be familiar with the approach used in the paper but, it's good practice to try to read papers like these."
   ]
  },
  {
   "cell_type": "markdown",
   "metadata": {},
   "source": [
    "### Pre-process the Data Set (normalization, grayscale, etc.)"
   ]
  },
  {
   "cell_type": "markdown",
   "metadata": {},
   "source": [
    "Minimally, the image data should be normalized so that the data has mean zero and equal variance. For image data, `(pixel - 128)/ 128` is a quick way to approximately normalize the data and can be used in this project. \n",
    "\n",
    "Other pre-processing steps are optional. You can try different techniques to see if it improves performance. \n",
    "\n",
    "Use the code cell (or multiple code cells, if necessary) to implement the first step of your project."
   ]
  },
  {
   "cell_type": "code",
   "execution_count": 5,
   "metadata": {},
   "outputs": [],
   "source": [
    "\"\"\"\n",
    "Preprocess Data\n",
    "\"\"\"\n",
    "\n",
    "\n",
    "def preprocess(filename=None, x_extended=None, y_extended=None, color=True):\n",
    "    \"\"\"\n",
    "    Convert a dataset to zero mean and equal variance, and produce color or gray images.\n",
    "    For color images the output image is 3D, while for gray images 2D\n",
    "    :param x_extended:\n",
    "    :param y_extended:\n",
    "    :param color:\n",
    "    :param filename:\n",
    "    :return:\n",
    "    \"\"\"\n",
    "    x_ext_norm = list()\n",
    "    normalized_data = None\n",
    "    if filename:\n",
    "        normalized_data = 'traffic-signs-data\\\\' + filename  # x_train_norm.p; x_train_norm_gray.p\n",
    "    if normalized_data and os.path.isfile(normalized_data):\n",
    "        with open(normalized_data, 'rb') as file:\n",
    "            x_ext_norm, y_extended = pickle.load(file)\n",
    "    else:\n",
    "        if color:\n",
    "            for image in x_extended:\n",
    "                mean, std = cv2.meanStdDev(image)\n",
    "                temp = np.zeros_like(image, dtype=np.float)\n",
    "                temp[:, :, 0] = (image[:, :, 0] - mean[0])/std[0]\n",
    "                temp[:, :, 1] = (image[:, :, 1] - mean[1])/std[1]\n",
    "                temp[:, :, 2] = (image[:, :, 2] - mean[2])/std[2]\n",
    "                x_ext_norm.append(temp)  # Zero mean and equal variance\n",
    "\n",
    "            x_ext_norm = np.array(x_ext_norm)\n",
    "            if normalized_data:\n",
    "                with open(normalized_data, 'wb') as file:\n",
    "                    x_ext_norm, y_extended = shuffle(x_ext_norm, y_extended)\n",
    "                    pickle.dump([x_ext_norm, y_extended], file)\n",
    "        else:\n",
    "            x_train_ext_g = np.array([cv2.cvtColor(im, cv2.COLOR_RGB2GRAY) for im in x_extended])\n",
    "            mean, std = cv2.meanStdDev(x_train_ext_g)\n",
    "            for image in x_train_ext_g:\n",
    "                x_ext_norm.append((image[:, :] - mean) / std)\n",
    "            x_ext_norm = np.array(x_ext_norm)\n",
    "            # np.concatenate((x_train_n_g[:,:,:,None], x_train_n_g[:,:,:,None], x_train_n_g[:,:,:,None]), axis=3)\n",
    "            if normalized_data:\n",
    "                with open(normalized_data, 'wb') as f:\n",
    "                    x_ext_norm, y_extended = shuffle(x_ext_norm, y_extended)\n",
    "                    pickle.dump([x_ext_norm, y_extended], f)\n",
    "\n",
    "    return shuffle(x_ext_norm, y_extended)\n",
    "\n",
    "\n",
    "x_train_norm, y_train_norm = preprocess('x_train_norm.p', x_train, y_train)"
   ]
  },
  {
   "cell_type": "markdown",
   "metadata": {},
   "source": [
    "### Model Architecture"
   ]
  },
  {
   "cell_type": "code",
   "execution_count": 6,
   "metadata": {},
   "outputs": [],
   "source": [
    "\"\"\"\n",
    "Net implementation\n",
    "\"\"\"\n",
    "\n",
    "tf.disable_eager_execution()\n",
    "tf.set_random_seed(123456)  # set random seed for dropout\n",
    "\n",
    "\n",
    "def my_net(x_in, keep):\n",
    "    # mu = 0; sigma = 0.12; var_epsilon = 1e-3\n",
    "    initializer = tf.keras.initializers.he_normal()\n",
    "\n",
    "    # Layer 1: Convolutional. Input = 32x32x1. Output = 30\n",
    "    filter1 = 3\n",
    "    out_depth1 = 32\n",
    "    conv1_w = tf.Variable(initializer(shape=(filter1, filter1, 3, out_depth1)))\n",
    "    # conv1_w = tf.Variable(tf.truncated_normal(shape=(filter1, filter1, 3, out_depth1), mean=mu, stddev=sigma))\n",
    "    conv1_b = tf.Variable(tf.zeros(out_depth1))  # bias\n",
    "    conv1 = tf.nn.conv2d(x_in, conv1_w, strides=[1, 1, 1, 1], padding='VALID') + conv1_b\n",
    "    conv1 = tf.nn.relu(conv1)  # Activation.\n",
    "    # mean1, var1 = tf.nn.moments(conv1, axes=[0, 1, 2], keep_dims=False)\n",
    "    # conv1 = tf.nn.batch_normalization(conv1, mean1, var1, None, None, var_epsilon)\n",
    "\n",
    "    # Layer 2: Convolutional. Output = 15\n",
    "    filter2 = 3\n",
    "    out_depth2 = 32\n",
    "    conv2_w = tf.Variable(initializer(shape=(filter2, filter2, out_depth1, out_depth2)))\n",
    "    conv2_b = tf.Variable(tf.zeros(out_depth2))\n",
    "    conv2 = tf.nn.conv2d(conv1, conv2_w, strides=[1, 2, 2, 1], padding='SAME') + conv2_b\n",
    "    conv2 = tf.nn.relu(conv2)  # Activation.\n",
    "    conv2 = tf.nn.dropout(conv2, keep_prob=keep+0.4)\n",
    "\n",
    "    # Layer 3: Convolutional. Output = 13\n",
    "    filter3 = 3\n",
    "    out_depth3 = 32\n",
    "    conv3_w = tf.Variable(initializer(shape=(filter3, filter3, out_depth2, out_depth3)))\n",
    "    conv3_b = tf.Variable(tf.zeros(out_depth3))  # bias\n",
    "    conv3 = tf.nn.conv2d(conv2, conv3_w, strides=[1, 1, 1, 1], padding='VALID') + conv3_b\n",
    "    conv3 = tf.nn.relu(conv3)  # Activation.\n",
    "    conv3 = tf.nn.dropout(conv3, keep_prob=keep+0.25)\n",
    "\n",
    "    # Layer 4: Convolutional. Output = 11\n",
    "    filter4 = 3\n",
    "    out_depth4 = 32\n",
    "    conv4_w = tf.Variable(initializer(shape=(filter4, filter4, out_depth3, out_depth4)))\n",
    "    conv4_b = tf.Variable(tf.zeros(out_depth4))\n",
    "    conv4 = tf.nn.conv2d(conv3, conv4_w, strides=[1, 1, 1, 1], padding='VALID') + conv4_b\n",
    "    conv4 = tf.nn.relu(conv4)  # Activation.\n",
    "    conv4 = tf.nn.dropout(conv4, keep_prob=keep+0.15)\n",
    "\n",
    "    fc0 = Flatten()(conv4)\n",
    "\n",
    "    # Layer 4: Fully Connected. Input = 3872\n",
    "    out_fc1 = 1290\n",
    "    fc1_w = tf.Variable(initializer(shape=(3872, out_fc1)))\n",
    "    # fc1_w = tf.Variable(tf.truncated_normal(shape=(3872, out_fc1), mean=mu, stddev=sigma))\n",
    "    fc1_b = tf.Variable(tf.zeros(out_fc1))\n",
    "    fc1 = tf.matmul(fc0, fc1_w) + fc1_b\n",
    "    fc1 = tf.nn.relu(fc1)  # Activation.\n",
    "    fc1 = tf.nn.dropout(fc1, keep_prob=keep+0.1)\n",
    "\n",
    "    # Layer 5: Fully Connected. Input = 1290\n",
    "    out_fc2 = 258\n",
    "    fc2_w = tf.Variable(initializer(shape=(out_fc1, out_fc2)))\n",
    "    fc2_b = tf.Variable(tf.zeros(out_fc2))\n",
    "    fc2 = tf.matmul(fc1, fc2_w) + fc2_b\n",
    "    fc2 = tf.nn.relu(fc2)  # Activation.\n",
    "    fc2 = tf.nn.dropout(fc2, keep_prob=keep+0.1)\n",
    "\n",
    "    # Layer 6: Fully Connected. Input = 258\n",
    "    fc3_w = tf.Variable(initializer(shape=(out_fc2, out_size)))\n",
    "    fc3_b = tf.Variable(tf.zeros(out_size))\n",
    "    logits_loc = tf.matmul(fc2, fc3_w) + fc3_b\n",
    "\n",
    "    l2_regular = (tf.nn.l2_loss(conv1_w) + tf.nn.l2_loss(conv2_w) + tf.nn.l2_loss(conv3_w)\n",
    "                  + tf.nn.l2_loss(conv4_w) + tf.nn.l2_loss(fc1_w) + tf.nn.l2_loss(fc2_w))\n",
    "\n",
    "    return logits_loc, l2_regular, conv1, conv2, conv3, conv4\n",
    "\n"
   ]
  },
  {
   "cell_type": "markdown",
   "metadata": {},
   "source": [
    "### Train, Validate and Test the Model"
   ]
  },
  {
   "cell_type": "markdown",
   "metadata": {},
   "source": [
    "A validation set can be used to assess how well the model is performing. A low accuracy on the training and validation\n",
    "sets imply underfitting. A high accuracy on the training set but low accuracy on the validation set implies overfitting."
   ]
  },
  {
   "cell_type": "code",
   "execution_count": 9,
   "metadata": {},
   "outputs": [
    {
     "name": "stdout",
     "output_type": "stream",
     "text": [
      "Training...\n",
      "\n",
      "EPOCH 1 ...\n",
      "Validation Accuracy = 0.851\n",
      "\n",
      "EPOCH 2 ...\n",
      "Validation Accuracy = 0.877\n",
      "\n",
      "EPOCH 3 ...\n",
      "Validation Accuracy = 0.885\n",
      "\n",
      "EPOCH 4 ...\n",
      "Validation Accuracy = 0.886\n",
      "\n",
      "EPOCH 5 ...\n",
      "Validation Accuracy = 0.915\n",
      "\n",
      "EPOCH 6 ...\n",
      "Validation Accuracy = 0.923\n",
      "\n",
      "EPOCH 7 ...\n",
      "Validation Accuracy = 0.935\n",
      "\n",
      "EPOCH 8 ...\n",
      "Validation Accuracy = 0.942\n",
      "\n",
      "EPOCH 9 ...\n",
      "Validation Accuracy = 0.922\n",
      "\n",
      "EPOCH 10 ...\n",
      "Validation Accuracy = 0.938\n",
      "\n",
      "EPOCH 11 ...\n",
      "Validation Accuracy = 0.921\n",
      "\n",
      "EPOCH 12 ...\n",
      "Validation Accuracy = 0.932\n",
      "\n",
      "Model saved\n",
      "INFO:tensorflow:Restoring parameters from .\\mynet\n",
      "Test Accuracy = 0.914\n"
     ]
    }
   ],
   "source": [
    "\"\"\"\n",
    "Features and Labels\n",
    "\"\"\"\n",
    "\n",
    "x = tf.placeholder(tf.float32, (None, 32, 32, 3))\n",
    "y = tf.placeholder(tf.int32, None)\n",
    "keep_prob = tf.placeholder(tf.float32)\n",
    "one_hot_y = tf.one_hot(y, out_size)\n",
    "\n",
    "\"\"\"\n",
    "Training Pipeline\n",
    "\"\"\"\n",
    "\n",
    "EPOCHS = 12\n",
    "BATCH_SIZE = 178\n",
    "\n",
    "rate = 0.001\n",
    "lambda_reg = 0.01\n",
    "\n",
    "logits, regularize, _, _, _, _ = my_net(x, keep_prob)\n",
    "cross_entropy = tf.nn.softmax_cross_entropy_with_logits(labels=one_hot_y, logits=logits)\n",
    "loss_operation = tf.reduce_mean(cross_entropy + lambda_reg * regularize)\n",
    "optimizer = tf.train.AdamOptimizer(learning_rate=rate)  # similar to gradient descent optimizer\n",
    "training_operation = optimizer.minimize(loss_operation)  # uses backpropagation\n",
    "\n",
    "\"\"\"\n",
    "Model Evaluation\n",
    "\"\"\"\n",
    "correct_prediction = tf.equal(tf.argmax(logits, 1), tf.argmax(one_hot_y, 1))  # compare logit to one-hot\n",
    "accuracy_operation = tf.reduce_mean(tf.cast(correct_prediction, tf.float32))\n",
    "\n",
    "\n",
    "def evaluate(x_data, y_data):\n",
    "    num_examples = len(x_data)\n",
    "    total_accuracy = 0\n",
    "    sess_loc = tf.get_default_session()\n",
    "    for offs in range(0, num_examples, BATCH_SIZE):  # batch the dataset\n",
    "        batch_xx, batch_yy = x_data[offs:offs+BATCH_SIZE], y_data[offs:offs+BATCH_SIZE]\n",
    "        accuracy = sess_loc.run(accuracy_operation, feed_dict={x: batch_xx, y: batch_yy, keep_prob: 1.0})\n",
    "        total_accuracy += (accuracy * len(batch_xx))\n",
    "    return total_accuracy / num_examples\n",
    "\n",
    "\n",
    "saver = tf.train.Saver()\n",
    "\n",
    "\"\"\"\n",
    "Train the Model\n",
    "\"\"\"\n",
    "\n",
    "\n",
    "def train_process(train_data, train_labels):\n",
    "    with tf.Session() as sess:\n",
    "        sess.run(tf.global_variables_initializer())\n",
    "        num_examp = len(train_data)\n",
    "\n",
    "        print(\"Training...\")\n",
    "        print()\n",
    "        for i in range(EPOCHS):\n",
    "            train_data, train_labels = shuffle(train_data, train_labels)  # important for radnomizing\n",
    "            for offset in range(0, num_examp, BATCH_SIZE):\n",
    "                end = offset + BATCH_SIZE\n",
    "                batch_x, batch_y = train_data[offset:end], train_labels[offset:end]\n",
    "                sess.run(training_operation, feed_dict={x: batch_x, y: batch_y, keep_prob: 0.5})\n",
    "\n",
    "            validation_accuracy = evaluate(x_valid, y_valid)\n",
    "            print(\"EPOCH {} ...\".format(i+1))\n",
    "            print(\"Validation Accuracy = {:.3f}\".format(validation_accuracy))\n",
    "            print()\n",
    "\n",
    "        saver.save(sess, './mynet')\n",
    "        print(\"Model saved\")\n",
    "\n",
    "\n",
    "\"\"\"\n",
    "Test the Model\n",
    "\"\"\"\n",
    "\n",
    "\n",
    "def test_process(tst_data, tst_labels):\n",
    "    with tf.Session() as sess:\n",
    "        saver.restore(sess, tf.train.latest_checkpoint('.'))\n",
    "        test_accuracy = evaluate(tst_data, tst_labels)\n",
    "        print(\"Test Accuracy = {:.3f}\".format(test_accuracy))\n",
    "\n",
    "\n",
    "train_process(x_train_norm, y_train_norm)\n",
    "test_process(test_data, test_labels)"
   ]
  },
  {
   "cell_type": "markdown",
   "metadata": {},
   "source": [
    "---\n",
    "\n",
    "## Step 3: Test a Model on New Images\n",
    "\n",
    "To give yourself more insight into how your model is working, download at least five pictures of German traffic signs from the web and use your model to predict the traffic sign type.\n",
    "\n",
    "You may find `signnames.csv` useful as it contains mappings from the class id (integer) to the actual sign name."
   ]
  },
  {
   "cell_type": "markdown",
   "metadata": {},
   "source": [
    "### Load and Output the Images"
   ]
  },
  {
   "cell_type": "code",
   "execution_count": 10,
   "metadata": {},
   "outputs": [],
   "source": [
    "### Load the images and plot them here.\n",
    "### Feel free to use as many code cells as needed.\n",
    "\"\"\"\n",
    "Demo\n",
    "\"\"\"\n",
    "\n",
    "\n",
    "def read_demo_images(plot=False):\n",
    "    demo_folder = \"demo/demo_img\"\n",
    "    demo_images = []\n",
    "    categories = []\n",
    "    num = 0\n",
    "    for filename in os.listdir(demo_folder):\n",
    "        img = cv2.imread(os.path.join(demo_folder, filename))\n",
    "        if img is not None:\n",
    "            img = cv2.resize(img, (32, 32))\n",
    "            demo_images.append(img)\n",
    "            cat = filename.split('_')\n",
    "            cat = cat[-1].split('.')[0]\n",
    "            categories.append(cat)\n",
    "            if plot:\n",
    "                num = num+1\n",
    "                plt.subplot(2, 4, num)\n",
    "                plt.imshow(cv2.cvtColor(img, cv2.COLOR_BGR2RGB))\n",
    "                plt.yticks([])\n",
    "                plt.ylabel(cat, rotation=0)\n",
    "    if plot:\n",
    "        plt.show()\n",
    "    return demo_images, categories\n"
   ]
  },
  {
   "cell_type": "markdown",
   "metadata": {},
   "source": [
    "### Predict the Sign Type for Each Image"
   ]
  },
  {
   "cell_type": "code",
   "execution_count": 11,
   "metadata": {},
   "outputs": [],
   "source": [
    "### Run the predictions here and use the model to output the prediction for each image.\n",
    "### Make sure to pre-process the images with the same pre-processing pipeline used earlier.\n",
    "### Feel free to use as many code cells as needed.\n",
    "imgs, cats = read_demo_images()"
   ]
  },
  {
   "cell_type": "markdown",
   "metadata": {},
   "source": [
    "### Analyze Performance"
   ]
  },
  {
   "cell_type": "code",
   "execution_count": 12,
   "metadata": {},
   "outputs": [
    {
     "name": "stdout",
     "output_type": "stream",
     "text": [
      "INFO:tensorflow:Restoring parameters from .\\mynet\n",
      "Test Accuracy = 0.429\n"
     ]
    }
   ],
   "source": [
    "### Calculate the accuracy for these 5 new images. \n",
    "### For example, if the model predicted 1 out of 5 signs correctly, it's 20% accurate on these new images.\n",
    "\n",
    "x_random_n, y_random_n = preprocess(x_extended=imgs, y_extended=cats)\n",
    "test_process(x_random_n, y_random_n)"
   ]
  },
  {
   "cell_type": "markdown",
   "metadata": {},
   "source": [
    "### Output Top 5 Softmax Probabilities For Each Image Found on the Web"
   ]
  },
  {
   "cell_type": "markdown",
   "metadata": {},
   "source": [
    "For each of the new images, print out the model's softmax probabilities to show the **certainty** of the model's predictions (limit the output to the top 5 probabilities for each image). [`tf.nn.top_k`](https://www.tensorflow.org/versions/r0.12/api_docs/python/nn.html#top_k) could prove helpful here. \n",
    "\n",
    "The example below demonstrates how tf.nn.top_k can be used to find the top k predictions for each image.\n",
    "\n",
    "`tf.nn.top_k` will return the values and indices (class ids) of the top k predictions. So if k=3, for each sign, it'll return the 3 largest probabilities (out of a possible 43) and the correspoding class ids.\n",
    "\n",
    "Take this numpy array as an example. The values in the array represent predictions. The array contains softmax probabilities for five candidate images with six possible classes. `tf.nn.top_k` is used to choose the three classes with the highest probability:\n",
    "\n",
    "```\n",
    "# (5, 6) array\n",
    "a = np.array([[ 0.24879643,  0.07032244,  0.12641572,  0.34763842,  0.07893497,\n",
    "         0.12789202],\n",
    "       [ 0.28086119,  0.27569815,  0.08594638,  0.0178669 ,  0.18063401,\n",
    "         0.15899337],\n",
    "       [ 0.26076848,  0.23664738,  0.08020603,  0.07001922,  0.1134371 ,\n",
    "         0.23892179],\n",
    "       [ 0.11943333,  0.29198961,  0.02605103,  0.26234032,  0.1351348 ,\n",
    "         0.16505091],\n",
    "       [ 0.09561176,  0.34396535,  0.0643941 ,  0.16240774,  0.24206137,\n",
    "         0.09155967]])\n",
    "```\n",
    "\n",
    "Running it through `sess.run(tf.nn.top_k(tf.constant(a), k=3))` produces:\n",
    "\n",
    "```\n",
    "TopKV2(values=array([[ 0.34763842,  0.24879643,  0.12789202],\n",
    "       [ 0.28086119,  0.27569815,  0.18063401],\n",
    "       [ 0.26076848,  0.23892179,  0.23664738],\n",
    "       [ 0.29198961,  0.26234032,  0.16505091],\n",
    "       [ 0.34396535,  0.24206137,  0.16240774]]), indices=array([[3, 0, 5],\n",
    "       [0, 1, 4],\n",
    "       [0, 5, 1],\n",
    "       [1, 3, 5],\n",
    "       [1, 4, 3]], dtype=int32))\n",
    "```\n",
    "\n",
    "Looking just at the first row we get `[ 0.34763842,  0.24879643,  0.12789202]`, you can confirm these are the 3 largest probabilities in `a`. You'll also notice `[3, 0, 5]` are the corresponding indices."
   ]
  },
  {
   "cell_type": "code",
   "execution_count": 15,
   "metadata": {},
   "outputs": [
    {
     "name": "stdout",
     "output_type": "stream",
     "text": [
      "INFO:tensorflow:Restoring parameters from .\\mynet\n"
     ]
    },
    {
     "data": {
      "image/png": "[encoded data removed]",
      "text/plain": [
       "<Figure size 432x288 with 7 Axes>"
      ]
     },
     "metadata": {
      "needs_background": "light"
     },
     "output_type": "display_data"
    },
    {
     "ename": "IndexError",
     "evalue": "Replacement index 1 out of range for positional args tuple",
     "output_type": "error",
     "traceback": [
      "\u001b[1;31m---------------------------------------------------------------------------\u001b[0m",
      "\u001b[1;31mIndexError\u001b[0m                                Traceback (most recent call last)",
      "\u001b[1;32m<ipython-input-15-50289aa6b7bf>\u001b[0m in \u001b[0;36m<module>\u001b[1;34m\u001b[0m\n\u001b[0;32m     26\u001b[0m \u001b[1;33m\u001b[0m\u001b[0m\n\u001b[0;32m     27\u001b[0m \u001b[1;33m\u001b[0m\u001b[0m\n\u001b[1;32m---> 28\u001b[1;33m \u001b[0mdemo_data\u001b[0m\u001b[1;33m(\u001b[0m\u001b[1;33m)\u001b[0m\u001b[1;33m\u001b[0m\u001b[1;33m\u001b[0m\u001b[0m\n\u001b[0m",
      "\u001b[1;32m<ipython-input-15-50289aa6b7bf>\u001b[0m in \u001b[0;36mdemo_data\u001b[1;34m()\u001b[0m\n\u001b[0;32m     19\u001b[0m                 \u001b[0mresult\u001b[0m \u001b[1;33m+=\u001b[0m \u001b[1;36m1\u001b[0m\u001b[1;33m\u001b[0m\u001b[1;33m\u001b[0m\u001b[0m\n\u001b[0;32m     20\u001b[0m             \u001b[1;32mwith\u001b[0m \u001b[0mopen\u001b[0m\u001b[1;33m(\u001b[0m\u001b[0mos\u001b[0m\u001b[1;33m.\u001b[0m\u001b[0mpath\u001b[0m\u001b[1;33m.\u001b[0m\u001b[0mjoin\u001b[0m\u001b[1;33m(\u001b[0m\u001b[1;34m\"demo\"\u001b[0m\u001b[1;33m,\u001b[0m \u001b[1;34m'image_stats.txt'\u001b[0m\u001b[1;33m)\u001b[0m\u001b[1;33m,\u001b[0m \u001b[1;34m'a'\u001b[0m\u001b[1;33m)\u001b[0m \u001b[1;32mas\u001b[0m \u001b[0mf\u001b[0m\u001b[1;33m:\u001b[0m\u001b[1;33m\u001b[0m\u001b[1;33m\u001b[0m\u001b[0m\n\u001b[1;32m---> 21\u001b[1;33m                 f.write('category: ' + cat + 'prediction: {1}, {2}, {3}, {4}, {5}\\n'.format(*indices)\n\u001b[0m\u001b[0;32m     22\u001b[0m                         + 'stats:  {:.2f}, {:.2f}, {:.2f}, {:.2f}, {:.2f}%\\n'.format(*values))\n\u001b[0;32m     23\u001b[0m \u001b[1;33m\u001b[0m\u001b[0m\n",
      "\u001b[1;31mIndexError\u001b[0m: Replacement index 1 out of range for positional args tuple"
     ]
    }
   ],
   "source": [
    "### Print out the top five softmax probabilities for the predictions on the German traffic sign images found on the web. \n",
    "### Feel free to use as many code cells as needed.\n",
    "\n",
    "def demo_data():\n",
    "    softmax_out = tf.nn.softmax(logits)\n",
    "    top_k_tensor = tf.nn.top_k(softmax_out, k=5)\n",
    "\n",
    "    with tf.Session() as sess:\n",
    "        saver.restore(sess, tf.train.latest_checkpoint('.'))\n",
    "        guesses = []\n",
    "        result = 0\n",
    "        images, categories = read_demo_images(plot=True)\n",
    "        for img, cat in zip(images, categories):\n",
    "            sess.run(softmax_out, feed_dict={x: img[np.newaxis, ...], keep_prob: 1.0})\n",
    "            top_k_data = sess.run(top_k_tensor, feed_dict={x: img[np.newaxis, ...], keep_prob: 1.0})\n",
    "            values, indices = top_k_data\n",
    "            guesses.append(indices)\n",
    "            if int(cat) == indices[0][0]:\n",
    "                result += 1\n",
    "            with open(os.path.join(\"demo\", 'image_stats.txt'), 'a') as f:\n",
    "                f.write('category: ' + cat + 'prediction: {1}, {2}, {3}, {4}, {5}\\n'.format(*indices)\n",
    "                        + 'stats:  {:.2f}, {:.2f}, {:.2f}, {:.2f}, {:.2f}%\\n'.format(*values))\n",
    "\n",
    "    print('demo accuracy = {:.3f}%'.format(100*result/len(categories)))\n",
    "    return guesses, categories\n",
    "\n",
    "\n",
    "demo_data()"
   ]
  },
  {
   "cell_type": "markdown",
   "metadata": {},
   "source": [
    "### Project Writeup\n",
    "\n",
    "Once you have completed the code implementation, document your results in a project writeup using this [template](https://github.com/udacity/CarND-Traffic-Sign-Classifier-Project/blob/master/writeup_template.md) as a guide. The writeup can be in a markdown or pdf file. "
   ]
  },
  {
   "cell_type": "markdown",
   "metadata": {},
   "source": [
    "> **Note**: Once you have completed all of the code implementations and successfully answered each question above, you may finalize your work by exporting the iPython Notebook as an HTML document. You can do this by using the menu above and navigating to  \\n\",\n",
    "    \"**File -> Download as -> HTML (.html)**. Include the finished document along with this notebook as your submission."
   ]
  },
  {
   "cell_type": "markdown",
   "metadata": {},
   "source": [
    "---\n",
    "\n",
    "## Step 4 (Optional): Visualize the Neural Network's State with Test Images\n",
    "\n",
    " This Section is not required to complete but acts as an additional excersise for understaning the output of a neural network's weights. While neural networks can be a great learning device they are often referred to as a black box. We can understand what the weights of a neural network look like better by plotting their feature maps. After successfully training your neural network you can see what it's feature maps look like by plotting the output of the network's weight layers in response to a test stimuli image. From these plotted feature maps, it's possible to see what characteristics of an image the network finds interesting. For a sign, maybe the inner network feature maps react with high activation to the sign's boundary outline or to the contrast in the sign's painted symbol.\n",
    "\n",
    " Provided for you below is the function code that allows you to get the visualization output of any tensorflow weight layer you want. The inputs to the function should be a stimuli image, one used during training or a new one you provided, and then the tensorflow variable name that represents the layer's state during the training process, for instance if you wanted to see what the [LeNet lab's](https://classroom.udacity.com/nanodegrees/nd013/parts/fbf77062-5703-404e-b60c-95b78b2f3f9e/modules/6df7ae49-c61c-4bb2-a23e-6527e69209ec/lessons/601ae704-1035-4287-8b11-e2c2716217ad/concepts/d4aca031-508f-4e0b-b493-e7b706120f81) feature maps looked like for it's second convolutional layer you could enter conv2 as the tf_activation variable.\n",
    "\n",
    "For an example of what feature map outputs look like, check out NVIDIA's results in their paper [End-to-End Deep Learning for Self-Driving Cars](https://devblogs.nvidia.com/parallelforall/deep-learning-self-driving-cars/) in the section Visualization of internal CNN State. NVIDIA was able to show that their network's inner weights had high activations to road boundary lines by comparing feature maps from an image with a clear path to one without. Try experimenting with a similar test to show that your trained network's weights are looking for interesting features, whether it's looking at differences in feature maps from images with or without a sign, or even what feature maps look like in a trained network vs a completely untrained one on the same sign image.\n",
    "\n",
    "<figure>\n",
    " <img src=\"visualize_cnn.png\" width=\"380\" alt=\"Combined Image\" />\n",
    " <figcaption>\n",
    " <p></p> \n",
    " <p style=\"text-align: center;\"> Your output should look something like this (above)</p> \n",
    " </figcaption>\n",
    "</figure>\n",
    " <p></p> \n"
   ]
  },
  {
   "cell_type": "code",
   "execution_count": null,
   "metadata": {
    "collapsed": true
   },
   "outputs": [],
   "source": [
    "### Visualize your network's feature maps here.\n",
    "### Feel free to use as many code cells as needed.\n",
    "\n",
    "# image_input: the test image being fed into the network to produce the feature maps\n",
    "# tf_activation: should be a tf variable name used during your training procedure that represents the calculated state of a specific weight layer\n",
    "# activation_min/max: can be used to view the activation contrast in more detail, by default matplot sets min and max to the actual min and max values of the output\n",
    "# plt_num: used to plot out multiple different weight feature map sets on the same block, just extend the plt number for each new feature map entry\n",
    "\n",
    "def outputFeatureMap(image_input, tf_activation, activation_min=-1, activation_max=-1 ,plt_num=1):\n",
    "    # Here make sure to preprocess your image_input in a way your network expects\n",
    "    # with size, normalization, ect if needed\n",
    "    # image_input =\n",
    "    # Note: x should be the same name as your network's tensorflow data placeholder variable\n",
    "    # If you get an error tf_activation is not defined it may be having trouble accessing the variable from inside a function\n",
    "    activation = tf_activation.eval(session=sess,feed_dict={x : image_input})\n",
    "    featuremaps = activation.shape[3]\n",
    "    plt.figure(plt_num, figsize=(15,15))\n",
    "    for featuremap in range(featuremaps):\n",
    "        plt.subplot(6,8, featuremap+1) # sets the number of feature maps to show on each row and column\n",
    "        plt.title('FeatureMap ' + str(featuremap)) # displays the feature map number\n",
    "        if activation_min != -1 & activation_max != -1:\n",
    "            plt.imshow(activation[0,:,:, featuremap], interpolation=\"nearest\", vmin =activation_min, vmax=activation_max, cmap=\"gray\")\n",
    "        elif activation_max != -1:\n",
    "            plt.imshow(activation[0,:,:, featuremap], interpolation=\"nearest\", vmax=activation_max, cmap=\"gray\")\n",
    "        elif activation_min !=-1:\n",
    "            plt.imshow(activation[0,:,:, featuremap], interpolation=\"nearest\", vmin=activation_min, cmap=\"gray\")\n",
    "        else:\n",
    "            plt.imshow(activation[0,:,:, featuremap], interpolation=\"nearest\", cmap=\"gray\")"
   ]
  }
 ],
 "metadata": {
  "anaconda-cloud": {},
  "kernelspec": {
   "display_name": "Python 3",
   "language": "python",
   "name": "python3"
  },
  "language_info": {
   "codemirror_mode": {
    "name": "ipython",
    "version": 3
   },
   "file_extension": ".py",
   "mimetype": "text/x-python",
   "name": "python",
   "nbconvert_exporter": "python",
   "pygments_lexer": "ipython3",
   "version": "3.8.5"
  },
  "widgets": {
   "state": {},
   "version": "1.1.2"
  }
 },
 "nbformat": 4,
 "nbformat_minor": 1
}
